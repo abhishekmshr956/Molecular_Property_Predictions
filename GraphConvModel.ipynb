{
 "cells": [
  {
   "cell_type": "code",
   "execution_count": 357,
   "id": "c81cc920-91e6-4e07-b72c-f9d1a89825dc",
   "metadata": {},
   "outputs": [],
   "source": [
    "# !pip install numpy==1.21.5\n",
    "## !conda install -c conda-forge rdkit deepchem==2.6.1\n",
    "#!pip install --pre deepchem"
   ]
  },
  {
   "cell_type": "code",
   "execution_count": 384,
   "id": "69b41251-bf34-4a92-bbc3-29e8ea11a188",
   "metadata": {},
   "outputs": [],
   "source": [
    "#import modules\n",
    "import warnings\n",
    "warnings.filterwarnings('ignore')\n",
    "#warnings.filterwarnings(action='once')\n",
    "\n",
    "import pandas as pd\n",
    "import numpy as np\n",
    "from rdkit import Chem\n",
    "import deepchem as dc\n",
    "import scipy"
   ]
  },
  {
   "cell_type": "code",
   "execution_count": 386,
   "id": "8d8d48fc-25da-41d9-9611-7f7afb6b27af",
   "metadata": {},
   "outputs": [],
   "source": [
    "# #read data as pandas dataframes\n",
    "# train_df = pd.read_hdf(\"../data/Microsomal_Clearance.train.scaffold.hdf\")\n",
    "# valid_df = pd.read_hdf(\"../data/Microsomal_Clearance.valid.scaffold.hdf\")\n",
    "# test_df = pd.read_hdf(\"../data/Microsomal_Clearance.test.scaffold.hdf\")\n",
    "# # train_df.info(), valid_df.info(), test_df.info()\n",
    "\n",
    "# #convert dataframes to csv\n",
    "# infile_name = \"train_scaffold.csv\"\n",
    "# train_df.to_csv(infile_name,index=False)\n",
    "\n",
    "# infile_name = \"valid_scaffold.csv\"\n",
    "# valid_df.to_csv(infile_name,index=False)\n",
    "\n",
    "# infile_name = \"test_scaffold.csv\"\n",
    "# test_df.to_csv(infile_name,index=False)"
   ]
  },
  {
   "cell_type": "markdown",
   "id": "a0e5ed66-1f0e-4347-8072-8a90b61cd816",
   "metadata": {},
   "source": [
    "#### Molecular Featurization"
   ]
  },
  {
   "cell_type": "code",
   "execution_count": 387,
   "id": "f8b75095-17b5-4c81-8ae2-2e9c21f2bbe0",
   "metadata": {},
   "outputs": [],
   "source": [
    "#preparing dataset for GraphConvModel\n",
    "featurizer = dc.feat.ConvMolFeaturizer()\n",
    "loader = dc.data.CSVLoader(tasks=['Microsomal Clearance'],\n",
    "                           feature_field=\"SMILES\",\n",
    "                           featurizer=featurizer)\n",
    "\n",
    "train_dataset = loader.featurize(\"train_scaffold.csv\")\n",
    "valid_dataset = loader.featurize(\"valid_scaffold.csv\")\n",
    "test_dataset = loader.featurize(\"test_scaffold.csv\")\n",
    "\n",
    "#normalizing the data with mean zero and standarad deviation 1\n",
    "transformers = [dc.trans.NormalizationTransformer(transform_y=True, dataset=train_dataset)]\n",
    "for dataset in [train_dataset, valid_dataset, test_dataset]:\n",
    "    for transformer in transformers:\n",
    "        dataset = transformer.transform(dataset)\n",
    "#train_dataset, valid_dataset, test_dataset                          "
   ]
  },
  {
   "cell_type": "markdown",
   "id": "bb99c6d8-cdbd-42d7-952e-36f4f1825233",
   "metadata": {},
   "source": [
    "#### Training the GraphConvModel model"
   ]
  },
  {
   "cell_type": "code",
   "execution_count": 391,
   "id": "b1b8267b-3767-4b08-8b9a-9dec85c17726",
   "metadata": {},
   "outputs": [],
   "source": [
    "model = dc.models.GraphConvModel(n_tasks=1,batch_size=100,mode='regression', \n",
    "                                 graph_conv_layers=[128,128],\n",
    "                                 dense_layer=1000,dropout=0.2)\n",
    "#n_task is 1 since we have one output value(Microsomal Clearance)\n",
    "#mode is regression \n",
    "#dropout rate is 0.2 to reduce overfitting\n",
    "\n",
    "#model = dc.models.GraphConvModel(n_tasks=1,batch_size=100,mode='regression', dropout=0.2)\n",
    "#model.fit(train_dataset, nb_epoch=200)\n",
    "\n",
    "#storing the loss to visualize it\n",
    "num_epochs=100\n",
    "losses=[]\n",
    "for i in range(num_epochs):\n",
    "    loss = model.fit(train_dataset, nb_epoch=1)\n",
    "    #print(f'Epoch {i} loss: {loss}')\n",
    "    losses.append(loss)\n"
   ]
  },
  {
   "cell_type": "code",
   "execution_count": 392,
   "id": "57b8d2b1-a3e1-4e90-8ed4-6edcc8438749",
   "metadata": {},
   "outputs": [
    {
     "data": {
      "image/png": "[encoded data removed]",
      "text/plain": [
       "<Figure size 432x288 with 1 Axes>"
      ]
     },
     "metadata": {
      "needs_background": "light"
     },
     "output_type": "display_data"
    }
   ],
   "source": [
    "import matplotlib.pyplot as plt\n",
    "plt.ylabel(\"Loss\")\n",
    "plt.xlabel(\"Epoch\")\n",
    "x = range(num_epochs)\n",
    "y = losses\n",
    "plt.scatter(x,y)\n",
    "plt.show()"
   ]
  },
  {
   "cell_type": "code",
   "execution_count": 393,
   "id": "4e7e5c07-b6bc-4ece-8910-22cb15964c15",
   "metadata": {},
   "outputs": [
    {
     "name": "stdout",
     "output_type": "stream",
     "text": [
      "{'pearson_r2_score': 0.7368201242740712, 'r2_score': 0.6490670165911284}\n",
      "{'pearson_r2_score': 0.14356613100767981, 'r2_score': 0.0010523121685406256}\n",
      "{'pearson_r2_score': 0.22091398720018007, 'r2_score': 0.11545339105332098}\n"
     ]
    }
   ],
   "source": [
    "#using pearson correlation coefficient and r2score as our evaluation metric\n",
    "metric = dc.metrics.Metric(dc.metrics.pearson_r2_score)\n",
    "metric1 = dc.metrics.Metric(dc.metrics.r2_score)\n",
    "print(model.evaluate(train_dataset, [metric, metric1], transformers=transformers))\n",
    "print(model.evaluate(valid_dataset, [metric, metric1], transformers=transformers))\n",
    "print(model.evaluate(test_dataset, [metric, metric1], transformers=transformers))"
   ]
  },
  {
   "cell_type": "code",
   "execution_count": 411,
   "id": "6c8cc770-0309-4c40-8656-968a7d2580c6",
   "metadata": {},
   "outputs": [
    {
     "data": {
      "text/plain": [
       "SpearmanrResult(correlation=0.5738861431091611, pvalue=9.33510752665027e-21)"
      ]
     },
     "execution_count": 411,
     "metadata": {},
     "output_type": "execute_result"
    }
   ],
   "source": [
    "#spearman correlation\n",
    "predicted_test = model.predict(test_dataset)\n",
    "measured_test = test_dataset.y\n",
    "\n",
    "scipy.stats.spearmanr(measured_test, predicted_test)"
   ]
  },
  {
   "cell_type": "code",
   "execution_count": 412,
   "id": "67d13ce5-7064-4fa8-b6f4-a6ec38041f4f",
   "metadata": {},
   "outputs": [
    {
     "data": {
      "image/png": "[encoded data removed]",
      "text/plain": [
       "<Figure size 432x288 with 1 Axes>"
      ]
     },
     "metadata": {
      "needs_background": "light"
     },
     "output_type": "display_data"
    }
   ],
   "source": [
    "plt.scatter(predicted_test, measured_test)\n",
    "plt.xlabel('Predicted')\n",
    "plt.ylabel('Measured')\n",
    "plt.title(r'GraphconvModel prediction')\n",
    "plt.show()"
   ]
  },
  {
   "cell_type": "markdown",
   "id": "c5451d94-6f81-4b83-b4b4-2ac93415317a",
   "metadata": {},
   "source": [
    "#### Optimizing the GraphConvModel model (Hyperparameter tuning)"
   ]
  },
  {
   "cell_type": "code",
   "execution_count": 404,
   "id": "0b8cc2ba-d82e-48a5-84a1-d13f9ec6000a",
   "metadata": {},
   "outputs": [],
   "source": [
    "params_dict ={\n",
    "    \"n_tasks\":[1],\n",
    "    \"graph_conv_layers\":[[64,64],[128,128],[256,256]],\n",
    "    \"dense_layer_size\":[64,128,256],\n",
    "    \"dropout\":[0.0,0.20,0.50],\n",
    "    \"mode\":['regression']}\n",
    "\n",
    "optimizer = dc.hyper.GridHyperparamOpt(dc.models.GraphConvModel)\n",
    "\n",
    "metric = dc.metrics.Metric(dc.metrics.r2_score)\n",
    "\n",
    "best_model, best_hyperparams, all_results = optimizer.hyperparam_search(\n",
    "params_dict, train_dataset, valid_dataset, metric, transformers)"
   ]
  },
  {
   "cell_type": "code",
   "execution_count": 409,
   "id": "5d6955a6-ece3-4a5f-a6b3-ae0578a3d7bb",
   "metadata": {},
   "outputs": [
    {
     "data": {
      "text/plain": [
       "{'n_tasks': 1,\n",
       " 'graph_conv_layers': [256, 256],\n",
       " 'dense_layer_size': 256,\n",
       " 'dropout': 0.0,\n",
       " 'mode': 'regression'}"
      ]
     },
     "execution_count": 409,
     "metadata": {},
     "output_type": "execute_result"
    }
   ],
   "source": [
    "best_hyperparams#, all_results"
   ]
  },
  {
   "cell_type": "code",
   "execution_count": 406,
   "id": "c0c0652f-e032-4217-86b1-f04ad4e60c52",
   "metadata": {},
   "outputs": [
    {
     "name": "stdout",
     "output_type": "stream",
     "text": [
      "{'pearson_r2_score': 0.21859368468845844, 'r2_score': 0.022143574923939036}\n",
      "{'pearson_r2_score': 0.07586992557911201, 'r2_score': 0.04518631440817211}\n",
      "{'pearson_r2_score': 0.22194652521456196, 'r2_score': 0.07293694249112714}\n"
     ]
    }
   ],
   "source": [
    "#using pearson correlation coefficient and r2score as our evaluation metric\n",
    "metric = dc.metrics.Metric(dc.metrics.pearson_r2_score)\n",
    "metric1 = dc.metrics.Metric(dc.metrics.r2_score)\n",
    "print(best_model.evaluate(train_dataset, [metric, metric1], transformers=transformers))\n",
    "print(best_model.evaluate(valid_dataset, [metric, metric1], transformers=transformers))\n",
    "print(best_model.evaluate(test_dataset, [metric, metric1], transformers=transformers))"
   ]
  },
  {
   "cell_type": "code",
   "execution_count": 407,
   "id": "dd211ec7-dab0-4a1f-b6e3-5f6d58a84580",
   "metadata": {},
   "outputs": [
    {
     "data": {
      "text/plain": [
       "SpearmanrResult(correlation=0.5273243475492632, pvalue=3.230959457343423e-17)"
      ]
     },
     "execution_count": 407,
     "metadata": {},
     "output_type": "execute_result"
    }
   ],
   "source": [
    "#spearman correlation\n",
    "predicted_test = best_model.predict(test_dataset)\n",
    "measured_test = test_dataset.y\n",
    "\n",
    "scipy.stats.spearmanr(measured_test, predicted_test)"
   ]
  },
  {
   "cell_type": "code",
   "execution_count": 410,
   "id": "fa45c3f8-4f6d-497c-901c-163f93f3ff93",
   "metadata": {},
   "outputs": [
    {
     "data": {
      "image/png": "[encoded data removed]",
      "text/plain": [
       "<Figure size 432x288 with 1 Axes>"
      ]
     },
     "metadata": {
      "needs_background": "light"
     },
     "output_type": "display_data"
    }
   ],
   "source": [
    "plt.scatter(predicted_test, measured_test)\n",
    "plt.xlabel('Predicted')\n",
    "plt.ylabel('Measured')\n",
    "plt.title(r'GraphconvModel prediction')\n",
    "plt.show()"
   ]
  },
  {
   "cell_type": "code",
   "execution_count": null,
   "id": "673f1599-3f7a-4a15-8c95-71bdaf359e5b",
   "metadata": {},
   "outputs": [],
   "source": []
  }
 ],
 "metadata": {
  "kernelspec": {
   "display_name": "Python 3",
   "language": "python",
   "name": "python3"
  },
  "language_info": {
   "codemirror_mode": {
    "name": "ipython",
    "version": 3
   },
   "file_extension": ".py",
   "mimetype": "text/x-python",
   "name": "python",
   "nbconvert_exporter": "python",
   "pygments_lexer": "ipython3",
   "version": "3.8.8"
  }
 },
 "nbformat": 4,
 "nbformat_minor": 5
}
