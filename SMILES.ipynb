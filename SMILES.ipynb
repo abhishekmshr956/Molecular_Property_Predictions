{
 "cells": [
  {
   "cell_type": "code",
   "execution_count": 1,
   "id": "9919ba81",
   "metadata": {},
   "outputs": [],
   "source": [
    "import deepchem as dc\n",
    "from rdkit import Chem"
   ]
  },
  {
   "cell_type": "code",
   "execution_count": 2,
   "id": "dbea1b5e",
   "metadata": {},
   "outputs": [],
   "source": [
    "smiles = ['C1CCCCC1', 'O1CCOCC1'] # cyclohexane and dioxane\n",
    "mols = [Chem.MolFromSmiles(smile) for smile in smiles]"
   ]
  },
  {
   "cell_type": "code",
   "execution_count": 5,
   "id": "344e2d97",
   "metadata": {},
   "outputs": [
    {
     "data": {
      "image/png": "[encoded data removed]",
      "text/plain": [
       "<rdkit.Chem.rdchem.Mol at 0x7fecb96c6460>"
      ]
     },
     "execution_count": 5,
     "metadata": {},
     "output_type": "execute_result"
    }
   ],
   "source": [
    "mols[0]"
   ]
  },
  {
   "cell_type": "code",
   "execution_count": 6,
   "id": "0668b81a",
   "metadata": {},
   "outputs": [
    {
     "data": {
      "image/png": "[encoded data removed]",
      "text/plain": [
       "<rdkit.Chem.rdchem.Mol at 0x7fecb9608880>"
      ]
     },
     "execution_count": 6,
     "metadata": {},
     "output_type": "execute_result"
    }
   ],
   "source": [
    "mols[1]"
   ]
  },
  {
   "cell_type": "code",
   "execution_count": 8,
   "id": "aba1cf17",
   "metadata": {},
   "outputs": [],
   "source": [
    "feat = dc.feat.CircularFingerprint(size=1024)"
   ]
  },
  {
   "cell_type": "code",
   "execution_count": 9,
   "id": "751f424d",
   "metadata": {},
   "outputs": [
    {
     "data": {
      "text/plain": [
       "CircularFingerprint[radius=2, size=1024, chiral=False, bonds=True, features=False, sparse=False, smiles=False]"
      ]
     },
     "execution_count": 9,
     "metadata": {},
     "output_type": "execute_result"
    }
   ],
   "source": [
    "feat"
   ]
  },
  {
   "cell_type": "code",
   "execution_count": 10,
   "id": "e45bdcda",
   "metadata": {},
   "outputs": [],
   "source": [
    "arr = feat.featurize(mols)# arr is a 2-by-1024 array containing the fingerprints for\n",
    "# the two molecules"
   ]
  },
  {
   "cell_type": "code",
   "execution_count": 11,
   "id": "ca221b63",
   "metadata": {},
   "outputs": [
    {
     "data": {
      "text/plain": [
       "array([[0., 0., 1., ..., 0., 0., 0.],\n",
       "       [0., 0., 0., ..., 0., 0., 0.]])"
      ]
     },
     "execution_count": 11,
     "metadata": {},
     "output_type": "execute_result"
    }
   ],
   "source": [
    "arr"
   ]
  },
  {
   "cell_type": "code",
   "execution_count": 12,
   "id": "399d5114",
   "metadata": {},
   "outputs": [
    {
     "data": {
      "text/plain": [
       "(2, 1024)"
      ]
     },
     "execution_count": 12,
     "metadata": {},
     "output_type": "execute_result"
    }
   ],
   "source": [
    "arr.shape"
   ]
  },
  {
   "cell_type": "code",
   "execution_count": 13,
   "id": "b7c94f1b",
   "metadata": {},
   "outputs": [],
   "source": [
    "feat = dc.feat.RDKitDescriptors()\n",
    "arr = feat.featurize(mols)\n",
    "# arr is a 2-by-200 array containing properties of the\n",
    "# two molecules"
   ]
  },
  {
   "cell_type": "code",
   "execution_count": 15,
   "id": "bf8899d9",
   "metadata": {},
   "outputs": [
    {
     "data": {
      "text/plain": [
       "(2, 208)"
      ]
     },
     "execution_count": 15,
     "metadata": {},
     "output_type": "execute_result"
    }
   ],
   "source": [
    "arr.shape"
   ]
  },
  {
   "cell_type": "code",
   "execution_count": null,
   "id": "e39b40fb",
   "metadata": {},
   "outputs": [],
   "source": []
  }
 ],
 "metadata": {
  "kernelspec": {
   "display_name": "Python 3 (ipykernel)",
   "language": "python",
   "name": "python3"
  },
  "language_info": {
   "codemirror_mode": {
    "name": "ipython",
    "version": 3
   },
   "file_extension": ".py",
   "mimetype": "text/x-python",
   "name": "python",
   "nbconvert_exporter": "python",
   "pygments_lexer": "ipython3",
   "version": "3.8.13"
  }
 },
 "nbformat": 4,
 "nbformat_minor": 5
}
