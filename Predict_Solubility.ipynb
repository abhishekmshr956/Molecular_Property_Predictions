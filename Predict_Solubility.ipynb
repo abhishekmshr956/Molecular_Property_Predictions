{
 "cells": [
  {
   "cell_type": "code",
   "execution_count": 1,
   "id": "a1faf818",
   "metadata": {},
   "outputs": [],
   "source": [
    "import deepchem as dc\n",
    "from rdkit import Chem"
   ]
  },
  {
   "cell_type": "code",
   "execution_count": 3,
   "id": "94ac2ac2",
   "metadata": {},
   "outputs": [
    {
     "ename": "ValueError",
     "evalue": "No Metadata Found On Disk",
     "output_type": "error",
     "traceback": [
      "\u001b[0;31m---------------------------------------------------------------------------\u001b[0m",
      "\u001b[0;31mValueError\u001b[0m                                Traceback (most recent call last)",
      "\u001b[0;32m/var/folders/nf/n4t7p5ls5f7328tk6m734jqcntml8y/T/ipykernel_23105/1616368065.py\u001b[0m in \u001b[0;36m<module>\u001b[0;34m\u001b[0m\n\u001b[0;32m----> 1\u001b[0;31m \u001b[0mtasks\u001b[0m\u001b[0;34m,\u001b[0m \u001b[0mdatasets\u001b[0m\u001b[0;34m,\u001b[0m \u001b[0mtransformers\u001b[0m \u001b[0;34m=\u001b[0m \u001b[0mdc\u001b[0m\u001b[0;34m.\u001b[0m\u001b[0mmolnet\u001b[0m\u001b[0;34m.\u001b[0m\u001b[0mload_delaney\u001b[0m\u001b[0;34m(\u001b[0m\u001b[0mfeaturizer\u001b[0m\u001b[0;34m=\u001b[0m\u001b[0;34m'GraphConv'\u001b[0m\u001b[0;34m)\u001b[0m\u001b[0;34m\u001b[0m\u001b[0;34m\u001b[0m\u001b[0m\n\u001b[0m\u001b[1;32m      2\u001b[0m \u001b[0;31m#train_dataset, valid_dataset, test_dataset = datasets\u001b[0m\u001b[0;34m\u001b[0m\u001b[0;34m\u001b[0m\u001b[0;34m\u001b[0m\u001b[0m\n\u001b[1;32m      3\u001b[0m \u001b[0;31m#this dataset contains information about solubility, which is a measure\u001b[0m\u001b[0;34m\u001b[0m\u001b[0;34m\u001b[0m\u001b[0;34m\u001b[0m\u001b[0m\n\u001b[1;32m      4\u001b[0m \u001b[0;31m#of how easily molecule dissolves in water\u001b[0m\u001b[0;34m\u001b[0m\u001b[0;34m\u001b[0m\u001b[0;34m\u001b[0m\u001b[0m\n",
      "\u001b[0;32m/opt/anaconda3/envs/molpredtf/lib/python3.7/site-packages/deepchem/molnet/load_function/delaney_datasets.py\u001b[0m in \u001b[0;36mload_delaney\u001b[0;34m(featurizer, splitter, transformers, reload, data_dir, save_dir, **kwargs)\u001b[0m\n\u001b[1;32m     78\u001b[0m   loader = _DelaneyLoader(featurizer, splitter, transformers, DELANEY_TASKS,\n\u001b[1;32m     79\u001b[0m                           data_dir, save_dir, **kwargs)\n\u001b[0;32m---> 80\u001b[0;31m   \u001b[0;32mreturn\u001b[0m \u001b[0mloader\u001b[0m\u001b[0;34m.\u001b[0m\u001b[0mload_dataset\u001b[0m\u001b[0;34m(\u001b[0m\u001b[0;34m'delaney'\u001b[0m\u001b[0;34m,\u001b[0m \u001b[0mreload\u001b[0m\u001b[0;34m)\u001b[0m\u001b[0;34m\u001b[0m\u001b[0;34m\u001b[0m\u001b[0m\n\u001b[0m",
      "\u001b[0;32m/opt/anaconda3/envs/molpredtf/lib/python3.7/site-packages/deepchem/molnet/load_function/molnet_loader.py\u001b[0m in \u001b[0;36mload_dataset\u001b[0;34m(self, name, reload)\u001b[0m\n\u001b[1;32m    168\u001b[0m       \u001b[0;32melse\u001b[0m\u001b[0;34m:\u001b[0m\u001b[0;34m\u001b[0m\u001b[0;34m\u001b[0m\u001b[0m\n\u001b[1;32m    169\u001b[0m         loaded, all_dataset, transformers = dc.utils.data_utils.load_dataset_from_disk(\n\u001b[0;32m--> 170\u001b[0;31m             save_folder)\n\u001b[0m\u001b[1;32m    171\u001b[0m         \u001b[0;32mif\u001b[0m \u001b[0mall_dataset\u001b[0m \u001b[0;32mis\u001b[0m \u001b[0;32mnot\u001b[0m \u001b[0;32mNone\u001b[0m\u001b[0;34m:\u001b[0m\u001b[0;34m\u001b[0m\u001b[0;34m\u001b[0m\u001b[0m\n\u001b[1;32m    172\u001b[0m           \u001b[0;32mreturn\u001b[0m \u001b[0mself\u001b[0m\u001b[0;34m.\u001b[0m\u001b[0mtasks\u001b[0m\u001b[0;34m,\u001b[0m \u001b[0mall_dataset\u001b[0m\u001b[0;34m,\u001b[0m \u001b[0mtransformers\u001b[0m\u001b[0;34m\u001b[0m\u001b[0;34m\u001b[0m\u001b[0m\n",
      "\u001b[0;32m/opt/anaconda3/envs/molpredtf/lib/python3.7/site-packages/deepchem/utils/data_utils.py\u001b[0m in \u001b[0;36mload_dataset_from_disk\u001b[0;34m(save_dir)\u001b[0m\n\u001b[1;32m    548\u001b[0m     \u001b[0;32mreturn\u001b[0m \u001b[0;32mFalse\u001b[0m\u001b[0;34m,\u001b[0m \u001b[0;32mNone\u001b[0m\u001b[0;34m,\u001b[0m \u001b[0mlist\u001b[0m\u001b[0;34m(\u001b[0m\u001b[0;34m)\u001b[0m\u001b[0;34m\u001b[0m\u001b[0;34m\u001b[0m\u001b[0m\n\u001b[1;32m    549\u001b[0m   \u001b[0mloaded\u001b[0m \u001b[0;34m=\u001b[0m \u001b[0;32mTrue\u001b[0m\u001b[0;34m\u001b[0m\u001b[0;34m\u001b[0m\u001b[0m\n\u001b[0;32m--> 550\u001b[0;31m   \u001b[0mtrain\u001b[0m \u001b[0;34m=\u001b[0m \u001b[0mdc\u001b[0m\u001b[0;34m.\u001b[0m\u001b[0mdata\u001b[0m\u001b[0;34m.\u001b[0m\u001b[0mDiskDataset\u001b[0m\u001b[0;34m(\u001b[0m\u001b[0mtrain_dir\u001b[0m\u001b[0;34m)\u001b[0m\u001b[0;34m\u001b[0m\u001b[0;34m\u001b[0m\u001b[0m\n\u001b[0m\u001b[1;32m    551\u001b[0m   \u001b[0mvalid\u001b[0m \u001b[0;34m=\u001b[0m \u001b[0mdc\u001b[0m\u001b[0;34m.\u001b[0m\u001b[0mdata\u001b[0m\u001b[0;34m.\u001b[0m\u001b[0mDiskDataset\u001b[0m\u001b[0;34m(\u001b[0m\u001b[0mvalid_dir\u001b[0m\u001b[0;34m)\u001b[0m\u001b[0;34m\u001b[0m\u001b[0;34m\u001b[0m\u001b[0m\n\u001b[1;32m    552\u001b[0m   \u001b[0mtest\u001b[0m \u001b[0;34m=\u001b[0m \u001b[0mdc\u001b[0m\u001b[0;34m.\u001b[0m\u001b[0mdata\u001b[0m\u001b[0;34m.\u001b[0m\u001b[0mDiskDataset\u001b[0m\u001b[0;34m(\u001b[0m\u001b[0mtest_dir\u001b[0m\u001b[0;34m)\u001b[0m\u001b[0;34m\u001b[0m\u001b[0;34m\u001b[0m\u001b[0m\n",
      "\u001b[0;32m/opt/anaconda3/envs/molpredtf/lib/python3.7/site-packages/deepchem/data/datasets.py\u001b[0m in \u001b[0;36m__init__\u001b[0;34m(self, data_dir)\u001b[0m\n\u001b[1;32m   1166\u001b[0m \u001b[0;34m\u001b[0m\u001b[0m\n\u001b[1;32m   1167\u001b[0m     \u001b[0mlogger\u001b[0m\u001b[0;34m.\u001b[0m\u001b[0minfo\u001b[0m\u001b[0;34m(\u001b[0m\u001b[0;34m\"Loading dataset from disk.\"\u001b[0m\u001b[0;34m)\u001b[0m\u001b[0;34m\u001b[0m\u001b[0;34m\u001b[0m\u001b[0m\n\u001b[0;32m-> 1168\u001b[0;31m     \u001b[0mtasks\u001b[0m\u001b[0;34m,\u001b[0m \u001b[0mself\u001b[0m\u001b[0;34m.\u001b[0m\u001b[0mmetadata_df\u001b[0m \u001b[0;34m=\u001b[0m \u001b[0mself\u001b[0m\u001b[0;34m.\u001b[0m\u001b[0mload_metadata\u001b[0m\u001b[0;34m(\u001b[0m\u001b[0;34m)\u001b[0m\u001b[0;34m\u001b[0m\u001b[0;34m\u001b[0m\u001b[0m\n\u001b[0m\u001b[1;32m   1169\u001b[0m     \u001b[0mself\u001b[0m\u001b[0;34m.\u001b[0m\u001b[0mtasks\u001b[0m \u001b[0;34m=\u001b[0m \u001b[0mnp\u001b[0m\u001b[0;34m.\u001b[0m\u001b[0marray\u001b[0m\u001b[0;34m(\u001b[0m\u001b[0mtasks\u001b[0m\u001b[0;34m)\u001b[0m\u001b[0;34m\u001b[0m\u001b[0;34m\u001b[0m\u001b[0m\n\u001b[1;32m   1170\u001b[0m     if len(self.metadata_df.columns) == 4 and list(\n",
      "\u001b[0;32m/opt/anaconda3/envs/molpredtf/lib/python3.7/site-packages/deepchem/data/datasets.py\u001b[0m in \u001b[0;36mload_metadata\u001b[0;34m(self)\u001b[0m\n\u001b[1;32m   1248\u001b[0m       \u001b[0mDiskDataset\u001b[0m\u001b[0;34m.\u001b[0m\u001b[0m_save_metadata\u001b[0m\u001b[0;34m(\u001b[0m\u001b[0mmetadata_df\u001b[0m\u001b[0;34m,\u001b[0m \u001b[0mself\u001b[0m\u001b[0;34m.\u001b[0m\u001b[0mdata_dir\u001b[0m\u001b[0;34m,\u001b[0m \u001b[0mtasks\u001b[0m\u001b[0;34m)\u001b[0m\u001b[0;34m\u001b[0m\u001b[0;34m\u001b[0m\u001b[0m\n\u001b[1;32m   1249\u001b[0m       \u001b[0;32mreturn\u001b[0m \u001b[0mtasks\u001b[0m\u001b[0;34m,\u001b[0m \u001b[0mmetadata_df\u001b[0m\u001b[0;34m\u001b[0m\u001b[0;34m\u001b[0m\u001b[0m\n\u001b[0;32m-> 1250\u001b[0;31m     \u001b[0;32mraise\u001b[0m \u001b[0mValueError\u001b[0m\u001b[0;34m(\u001b[0m\u001b[0;34m\"No Metadata Found On Disk\"\u001b[0m\u001b[0;34m)\u001b[0m\u001b[0;34m\u001b[0m\u001b[0;34m\u001b[0m\u001b[0m\n\u001b[0m\u001b[1;32m   1251\u001b[0m \u001b[0;34m\u001b[0m\u001b[0m\n\u001b[1;32m   1252\u001b[0m   \u001b[0;34m@\u001b[0m\u001b[0mstaticmethod\u001b[0m\u001b[0;34m\u001b[0m\u001b[0;34m\u001b[0m\u001b[0m\n",
      "\u001b[0;31mValueError\u001b[0m: No Metadata Found On Disk"
     ]
    }
   ],
   "source": [
    "tasks, datasets, transformers = dc.molnet.load_delaney(featurizer='GraphConv')\n",
    "#train_dataset, valid_dataset, test_dataset = datasets\n",
    "#this dataset contains information about solubility, which is a measure\n",
    "#of how easily molecule dissolves in water"
   ]
  },
  {
   "cell_type": "code",
   "execution_count": 9,
   "id": "bfe00462",
   "metadata": {},
   "outputs": [
    {
     "data": {
      "text/plain": [
       "((902,), (902, 1), (113,), (113,))"
      ]
     },
     "execution_count": 9,
     "metadata": {},
     "output_type": "execute_result"
    }
   ],
   "source": [
    "train_dataset.X.shape, train_dataset.y.shape, valid_dataset.X.shape, test_dataset.X.shape"
   ]
  },
  {
   "cell_type": "code",
   "execution_count": 12,
   "id": "6ba3e5e8",
   "metadata": {},
   "outputs": [
    {
     "ename": "TypeError",
     "evalue": "in converted code:\n    relative to /opt/anaconda3/envs/molpredtf/lib/python3.7/site-packages:\n\n    deepchem/models/keras_model.py:510 apply_gradient_for_batch  *\n        grads = tape.gradient(batch_loss, vars)\n    tensorflow_core/python/eager/backprop.py:1014 gradient\n        unconnected_gradients=unconnected_gradients)\n    tensorflow_core/python/eager/imperative_grad.py:76 imperative_grad\n        compat.as_str(unconnected_gradients.value))\n    tensorflow_core/python/eager/backprop.py:138 _gradient_function\n        return grad_fn(mock_op, *out_grads)\n    tensorflow_core/python/ops/math_grad.py:455 _UnsortedSegmentMaxGrad\n        return _UnsortedSegmentMinOrMaxGrad(op, grad)\n    tensorflow_core/python/ops/math_grad.py:432 _UnsortedSegmentMinOrMaxGrad\n        _GatherDropNegatives(op.outputs[0], op.inputs[1])\n\n    TypeError: 'NoneType' object is not subscriptable\n",
     "output_type": "error",
     "traceback": [
      "\u001b[0;31m---------------------------------------------------------------------------\u001b[0m",
      "\u001b[0;31mTypeError\u001b[0m                                 Traceback (most recent call last)",
      "\u001b[0;32m/var/folders/nf/n4t7p5ls5f7328tk6m734jqcntml8y/T/ipykernel_66550/919536173.py\u001b[0m in \u001b[0;36m<module>\u001b[0;34m\u001b[0m\n\u001b[1;32m      1\u001b[0m \u001b[0mmodel\u001b[0m \u001b[0;34m=\u001b[0m \u001b[0mdc\u001b[0m\u001b[0;34m.\u001b[0m\u001b[0mmodels\u001b[0m\u001b[0;34m.\u001b[0m\u001b[0mGraphConvModel\u001b[0m\u001b[0;34m(\u001b[0m\u001b[0mn_tasks\u001b[0m\u001b[0;34m=\u001b[0m\u001b[0;36m1\u001b[0m\u001b[0;34m,\u001b[0m \u001b[0mmode\u001b[0m\u001b[0;34m=\u001b[0m\u001b[0;34m'regression'\u001b[0m\u001b[0;34m,\u001b[0m \u001b[0mdropout\u001b[0m\u001b[0;34m=\u001b[0m\u001b[0;36m0.2\u001b[0m\u001b[0;34m)\u001b[0m\u001b[0;34m\u001b[0m\u001b[0;34m\u001b[0m\u001b[0m\n\u001b[0;32m----> 2\u001b[0;31m \u001b[0mmodel\u001b[0m\u001b[0;34m.\u001b[0m\u001b[0mfit\u001b[0m\u001b[0;34m(\u001b[0m\u001b[0mtrain_dataset\u001b[0m\u001b[0;34m,\u001b[0m \u001b[0mnb_epoch\u001b[0m\u001b[0;34m=\u001b[0m\u001b[0;36m100\u001b[0m\u001b[0;34m)\u001b[0m\u001b[0;34m\u001b[0m\u001b[0;34m\u001b[0m\u001b[0m\n\u001b[0m",
      "\u001b[0;32m/opt/anaconda3/envs/molpredtf/lib/python3.7/site-packages/deepchem/models/keras_model.py\u001b[0m in \u001b[0;36mfit\u001b[0;34m(self, dataset, nb_epoch, max_checkpoints_to_keep, checkpoint_interval, deterministic, restore, variables, loss, callbacks, all_losses)\u001b[0m\n\u001b[1;32m    357\u001b[0m             \u001b[0mdataset\u001b[0m\u001b[0;34m,\u001b[0m \u001b[0mepochs\u001b[0m\u001b[0;34m=\u001b[0m\u001b[0mnb_epoch\u001b[0m\u001b[0;34m,\u001b[0m\u001b[0;34m\u001b[0m\u001b[0;34m\u001b[0m\u001b[0m\n\u001b[1;32m    358\u001b[0m             deterministic=deterministic), max_checkpoints_to_keep,\n\u001b[0;32m--> 359\u001b[0;31m         checkpoint_interval, restore, variables, loss, callbacks, all_losses)\n\u001b[0m\u001b[1;32m    360\u001b[0m \u001b[0;34m\u001b[0m\u001b[0m\n\u001b[1;32m    361\u001b[0m   def fit_generator(self,\n",
      "\u001b[0;32m/opt/anaconda3/envs/molpredtf/lib/python3.7/site-packages/deepchem/models/keras_model.py\u001b[0m in \u001b[0;36mfit_generator\u001b[0;34m(self, generator, max_checkpoints_to_keep, checkpoint_interval, restore, variables, loss, callbacks, all_losses)\u001b[0m\n\u001b[1;32m    442\u001b[0m         \u001b[0minputs\u001b[0m \u001b[0;34m=\u001b[0m \u001b[0minputs\u001b[0m\u001b[0;34m[\u001b[0m\u001b[0;36m0\u001b[0m\u001b[0;34m]\u001b[0m\u001b[0;34m\u001b[0m\u001b[0;34m\u001b[0m\u001b[0m\n\u001b[1;32m    443\u001b[0m \u001b[0;34m\u001b[0m\u001b[0m\n\u001b[0;32m--> 444\u001b[0;31m       \u001b[0mbatch_loss\u001b[0m \u001b[0;34m=\u001b[0m \u001b[0mapply_gradient_for_batch\u001b[0m\u001b[0;34m(\u001b[0m\u001b[0minputs\u001b[0m\u001b[0;34m,\u001b[0m \u001b[0mlabels\u001b[0m\u001b[0;34m,\u001b[0m \u001b[0mweights\u001b[0m\u001b[0;34m,\u001b[0m \u001b[0mloss\u001b[0m\u001b[0;34m)\u001b[0m\u001b[0;34m\u001b[0m\u001b[0;34m\u001b[0m\u001b[0m\n\u001b[0m\u001b[1;32m    445\u001b[0m       \u001b[0mcurrent_step\u001b[0m \u001b[0;34m=\u001b[0m \u001b[0mself\u001b[0m\u001b[0;34m.\u001b[0m\u001b[0m_global_step\u001b[0m\u001b[0;34m.\u001b[0m\u001b[0mnumpy\u001b[0m\u001b[0;34m(\u001b[0m\u001b[0;34m)\u001b[0m\u001b[0;34m\u001b[0m\u001b[0;34m\u001b[0m\u001b[0m\n\u001b[1;32m    446\u001b[0m \u001b[0;34m\u001b[0m\u001b[0m\n",
      "\u001b[0;32m/opt/anaconda3/envs/molpredtf/lib/python3.7/site-packages/tensorflow_core/python/eager/def_function.py\u001b[0m in \u001b[0;36m__call__\u001b[0;34m(self, *args, **kwds)\u001b[0m\n\u001b[1;32m    455\u001b[0m \u001b[0;34m\u001b[0m\u001b[0m\n\u001b[1;32m    456\u001b[0m     \u001b[0mtracing_count\u001b[0m \u001b[0;34m=\u001b[0m \u001b[0mself\u001b[0m\u001b[0;34m.\u001b[0m\u001b[0m_get_tracing_count\u001b[0m\u001b[0;34m(\u001b[0m\u001b[0;34m)\u001b[0m\u001b[0;34m\u001b[0m\u001b[0;34m\u001b[0m\u001b[0m\n\u001b[0;32m--> 457\u001b[0;31m     \u001b[0mresult\u001b[0m \u001b[0;34m=\u001b[0m \u001b[0mself\u001b[0m\u001b[0;34m.\u001b[0m\u001b[0m_call\u001b[0m\u001b[0;34m(\u001b[0m\u001b[0;34m*\u001b[0m\u001b[0margs\u001b[0m\u001b[0;34m,\u001b[0m \u001b[0;34m**\u001b[0m\u001b[0mkwds\u001b[0m\u001b[0;34m)\u001b[0m\u001b[0;34m\u001b[0m\u001b[0;34m\u001b[0m\u001b[0m\n\u001b[0m\u001b[1;32m    458\u001b[0m     \u001b[0;32mif\u001b[0m \u001b[0mtracing_count\u001b[0m \u001b[0;34m==\u001b[0m \u001b[0mself\u001b[0m\u001b[0;34m.\u001b[0m\u001b[0m_get_tracing_count\u001b[0m\u001b[0;34m(\u001b[0m\u001b[0;34m)\u001b[0m\u001b[0;34m:\u001b[0m\u001b[0;34m\u001b[0m\u001b[0;34m\u001b[0m\u001b[0m\n\u001b[1;32m    459\u001b[0m       \u001b[0mself\u001b[0m\u001b[0;34m.\u001b[0m\u001b[0m_call_counter\u001b[0m\u001b[0;34m.\u001b[0m\u001b[0mcalled_without_tracing\u001b[0m\u001b[0;34m(\u001b[0m\u001b[0;34m)\u001b[0m\u001b[0;34m\u001b[0m\u001b[0;34m\u001b[0m\u001b[0m\n",
      "\u001b[0;32m/opt/anaconda3/envs/molpredtf/lib/python3.7/site-packages/tensorflow_core/python/eager/def_function.py\u001b[0m in \u001b[0;36m_call\u001b[0;34m(self, *args, **kwds)\u001b[0m\n\u001b[1;32m    501\u001b[0m       \u001b[0;31m# This is the first call of __call__, so we have to initialize.\u001b[0m\u001b[0;34m\u001b[0m\u001b[0;34m\u001b[0m\u001b[0;34m\u001b[0m\u001b[0m\n\u001b[1;32m    502\u001b[0m       \u001b[0minitializer_map\u001b[0m \u001b[0;34m=\u001b[0m \u001b[0mobject_identity\u001b[0m\u001b[0;34m.\u001b[0m\u001b[0mObjectIdentityDictionary\u001b[0m\u001b[0;34m(\u001b[0m\u001b[0;34m)\u001b[0m\u001b[0;34m\u001b[0m\u001b[0;34m\u001b[0m\u001b[0m\n\u001b[0;32m--> 503\u001b[0;31m       \u001b[0mself\u001b[0m\u001b[0;34m.\u001b[0m\u001b[0m_initialize\u001b[0m\u001b[0;34m(\u001b[0m\u001b[0margs\u001b[0m\u001b[0;34m,\u001b[0m \u001b[0mkwds\u001b[0m\u001b[0;34m,\u001b[0m \u001b[0madd_initializers_to\u001b[0m\u001b[0;34m=\u001b[0m\u001b[0minitializer_map\u001b[0m\u001b[0;34m)\u001b[0m\u001b[0;34m\u001b[0m\u001b[0;34m\u001b[0m\u001b[0m\n\u001b[0m\u001b[1;32m    504\u001b[0m     \u001b[0;32mfinally\u001b[0m\u001b[0;34m:\u001b[0m\u001b[0;34m\u001b[0m\u001b[0;34m\u001b[0m\u001b[0m\n\u001b[1;32m    505\u001b[0m       \u001b[0;31m# At this point we know that the initialization is complete (or less\u001b[0m\u001b[0;34m\u001b[0m\u001b[0;34m\u001b[0m\u001b[0;34m\u001b[0m\u001b[0m\n",
      "\u001b[0;32m/opt/anaconda3/envs/molpredtf/lib/python3.7/site-packages/tensorflow_core/python/eager/def_function.py\u001b[0m in \u001b[0;36m_initialize\u001b[0;34m(self, args, kwds, add_initializers_to)\u001b[0m\n\u001b[1;32m    406\u001b[0m     self._concrete_stateful_fn = (\n\u001b[1;32m    407\u001b[0m         self._stateful_fn._get_concrete_function_internal_garbage_collected(  # pylint: disable=protected-access\n\u001b[0;32m--> 408\u001b[0;31m             *args, **kwds))\n\u001b[0m\u001b[1;32m    409\u001b[0m \u001b[0;34m\u001b[0m\u001b[0m\n\u001b[1;32m    410\u001b[0m     \u001b[0;32mdef\u001b[0m \u001b[0minvalid_creator_scope\u001b[0m\u001b[0;34m(\u001b[0m\u001b[0;34m*\u001b[0m\u001b[0munused_args\u001b[0m\u001b[0;34m,\u001b[0m \u001b[0;34m**\u001b[0m\u001b[0munused_kwds\u001b[0m\u001b[0;34m)\u001b[0m\u001b[0;34m:\u001b[0m\u001b[0;34m\u001b[0m\u001b[0;34m\u001b[0m\u001b[0m\n",
      "\u001b[0;32m/opt/anaconda3/envs/molpredtf/lib/python3.7/site-packages/tensorflow_core/python/eager/function.py\u001b[0m in \u001b[0;36m_get_concrete_function_internal_garbage_collected\u001b[0;34m(self, *args, **kwargs)\u001b[0m\n\u001b[1;32m   1846\u001b[0m     \u001b[0;32mif\u001b[0m \u001b[0mself\u001b[0m\u001b[0;34m.\u001b[0m\u001b[0minput_signature\u001b[0m\u001b[0;34m:\u001b[0m\u001b[0;34m\u001b[0m\u001b[0;34m\u001b[0m\u001b[0m\n\u001b[1;32m   1847\u001b[0m       \u001b[0margs\u001b[0m\u001b[0;34m,\u001b[0m \u001b[0mkwargs\u001b[0m \u001b[0;34m=\u001b[0m \u001b[0;32mNone\u001b[0m\u001b[0;34m,\u001b[0m \u001b[0;32mNone\u001b[0m\u001b[0;34m\u001b[0m\u001b[0;34m\u001b[0m\u001b[0m\n\u001b[0;32m-> 1848\u001b[0;31m     \u001b[0mgraph_function\u001b[0m\u001b[0;34m,\u001b[0m \u001b[0m_\u001b[0m\u001b[0;34m,\u001b[0m \u001b[0m_\u001b[0m \u001b[0;34m=\u001b[0m \u001b[0mself\u001b[0m\u001b[0;34m.\u001b[0m\u001b[0m_maybe_define_function\u001b[0m\u001b[0;34m(\u001b[0m\u001b[0margs\u001b[0m\u001b[0;34m,\u001b[0m \u001b[0mkwargs\u001b[0m\u001b[0;34m)\u001b[0m\u001b[0;34m\u001b[0m\u001b[0;34m\u001b[0m\u001b[0m\n\u001b[0m\u001b[1;32m   1849\u001b[0m     \u001b[0;32mreturn\u001b[0m \u001b[0mgraph_function\u001b[0m\u001b[0;34m\u001b[0m\u001b[0;34m\u001b[0m\u001b[0m\n\u001b[1;32m   1850\u001b[0m \u001b[0;34m\u001b[0m\u001b[0m\n",
      "\u001b[0;32m/opt/anaconda3/envs/molpredtf/lib/python3.7/site-packages/tensorflow_core/python/eager/function.py\u001b[0m in \u001b[0;36m_maybe_define_function\u001b[0;34m(self, args, kwargs)\u001b[0m\n\u001b[1;32m   2148\u001b[0m         \u001b[0mgraph_function\u001b[0m \u001b[0;34m=\u001b[0m \u001b[0mself\u001b[0m\u001b[0;34m.\u001b[0m\u001b[0m_function_cache\u001b[0m\u001b[0;34m.\u001b[0m\u001b[0mprimary\u001b[0m\u001b[0;34m.\u001b[0m\u001b[0mget\u001b[0m\u001b[0;34m(\u001b[0m\u001b[0mcache_key\u001b[0m\u001b[0;34m,\u001b[0m \u001b[0;32mNone\u001b[0m\u001b[0;34m)\u001b[0m\u001b[0;34m\u001b[0m\u001b[0;34m\u001b[0m\u001b[0m\n\u001b[1;32m   2149\u001b[0m         \u001b[0;32mif\u001b[0m \u001b[0mgraph_function\u001b[0m \u001b[0;32mis\u001b[0m \u001b[0;32mNone\u001b[0m\u001b[0;34m:\u001b[0m\u001b[0;34m\u001b[0m\u001b[0;34m\u001b[0m\u001b[0m\n\u001b[0;32m-> 2150\u001b[0;31m           \u001b[0mgraph_function\u001b[0m \u001b[0;34m=\u001b[0m \u001b[0mself\u001b[0m\u001b[0;34m.\u001b[0m\u001b[0m_create_graph_function\u001b[0m\u001b[0;34m(\u001b[0m\u001b[0margs\u001b[0m\u001b[0;34m,\u001b[0m \u001b[0mkwargs\u001b[0m\u001b[0;34m)\u001b[0m\u001b[0;34m\u001b[0m\u001b[0;34m\u001b[0m\u001b[0m\n\u001b[0m\u001b[1;32m   2151\u001b[0m           \u001b[0mself\u001b[0m\u001b[0;34m.\u001b[0m\u001b[0m_function_cache\u001b[0m\u001b[0;34m.\u001b[0m\u001b[0mprimary\u001b[0m\u001b[0;34m[\u001b[0m\u001b[0mcache_key\u001b[0m\u001b[0;34m]\u001b[0m \u001b[0;34m=\u001b[0m \u001b[0mgraph_function\u001b[0m\u001b[0;34m\u001b[0m\u001b[0;34m\u001b[0m\u001b[0m\n\u001b[1;32m   2152\u001b[0m         \u001b[0;32mreturn\u001b[0m \u001b[0mgraph_function\u001b[0m\u001b[0;34m,\u001b[0m \u001b[0margs\u001b[0m\u001b[0;34m,\u001b[0m \u001b[0mkwargs\u001b[0m\u001b[0;34m\u001b[0m\u001b[0;34m\u001b[0m\u001b[0m\n",
      "\u001b[0;32m/opt/anaconda3/envs/molpredtf/lib/python3.7/site-packages/tensorflow_core/python/eager/function.py\u001b[0m in \u001b[0;36m_create_graph_function\u001b[0;34m(self, args, kwargs, override_flat_arg_shapes)\u001b[0m\n\u001b[1;32m   2039\u001b[0m             \u001b[0marg_names\u001b[0m\u001b[0;34m=\u001b[0m\u001b[0marg_names\u001b[0m\u001b[0;34m,\u001b[0m\u001b[0;34m\u001b[0m\u001b[0;34m\u001b[0m\u001b[0m\n\u001b[1;32m   2040\u001b[0m             \u001b[0moverride_flat_arg_shapes\u001b[0m\u001b[0;34m=\u001b[0m\u001b[0moverride_flat_arg_shapes\u001b[0m\u001b[0;34m,\u001b[0m\u001b[0;34m\u001b[0m\u001b[0;34m\u001b[0m\u001b[0m\n\u001b[0;32m-> 2041\u001b[0;31m             capture_by_value=self._capture_by_value),\n\u001b[0m\u001b[1;32m   2042\u001b[0m         \u001b[0mself\u001b[0m\u001b[0;34m.\u001b[0m\u001b[0m_function_attributes\u001b[0m\u001b[0;34m,\u001b[0m\u001b[0;34m\u001b[0m\u001b[0;34m\u001b[0m\u001b[0m\n\u001b[1;32m   2043\u001b[0m         \u001b[0;31m# Tell the ConcreteFunction to clean up its graph once it goes out of\u001b[0m\u001b[0;34m\u001b[0m\u001b[0;34m\u001b[0m\u001b[0;34m\u001b[0m\u001b[0m\n",
      "\u001b[0;32m/opt/anaconda3/envs/molpredtf/lib/python3.7/site-packages/tensorflow_core/python/framework/func_graph.py\u001b[0m in \u001b[0;36mfunc_graph_from_py_func\u001b[0;34m(name, python_func, args, kwargs, signature, func_graph, autograph, autograph_options, add_control_dependencies, arg_names, op_return_value, collections, capture_by_value, override_flat_arg_shapes)\u001b[0m\n\u001b[1;32m    913\u001b[0m                                           converted_func)\n\u001b[1;32m    914\u001b[0m \u001b[0;34m\u001b[0m\u001b[0m\n\u001b[0;32m--> 915\u001b[0;31m       \u001b[0mfunc_outputs\u001b[0m \u001b[0;34m=\u001b[0m \u001b[0mpython_func\u001b[0m\u001b[0;34m(\u001b[0m\u001b[0;34m*\u001b[0m\u001b[0mfunc_args\u001b[0m\u001b[0;34m,\u001b[0m \u001b[0;34m**\u001b[0m\u001b[0mfunc_kwargs\u001b[0m\u001b[0;34m)\u001b[0m\u001b[0;34m\u001b[0m\u001b[0;34m\u001b[0m\u001b[0m\n\u001b[0m\u001b[1;32m    916\u001b[0m \u001b[0;34m\u001b[0m\u001b[0m\n\u001b[1;32m    917\u001b[0m       \u001b[0;31m# invariant: `func_outputs` contains only Tensors, CompositeTensors,\u001b[0m\u001b[0;34m\u001b[0m\u001b[0;34m\u001b[0m\u001b[0;34m\u001b[0m\u001b[0m\n",
      "\u001b[0;32m/opt/anaconda3/envs/molpredtf/lib/python3.7/site-packages/tensorflow_core/python/eager/def_function.py\u001b[0m in \u001b[0;36mwrapped_fn\u001b[0;34m(*args, **kwds)\u001b[0m\n\u001b[1;32m    356\u001b[0m         \u001b[0;31m# __wrapped__ allows AutoGraph to swap in a converted function. We give\u001b[0m\u001b[0;34m\u001b[0m\u001b[0;34m\u001b[0m\u001b[0;34m\u001b[0m\u001b[0m\n\u001b[1;32m    357\u001b[0m         \u001b[0;31m# the function a weak reference to itself to avoid a reference cycle.\u001b[0m\u001b[0;34m\u001b[0m\u001b[0;34m\u001b[0m\u001b[0;34m\u001b[0m\u001b[0m\n\u001b[0;32m--> 358\u001b[0;31m         \u001b[0;32mreturn\u001b[0m \u001b[0mweak_wrapped_fn\u001b[0m\u001b[0;34m(\u001b[0m\u001b[0;34m)\u001b[0m\u001b[0;34m.\u001b[0m\u001b[0m__wrapped__\u001b[0m\u001b[0;34m(\u001b[0m\u001b[0;34m*\u001b[0m\u001b[0margs\u001b[0m\u001b[0;34m,\u001b[0m \u001b[0;34m**\u001b[0m\u001b[0mkwds\u001b[0m\u001b[0;34m)\u001b[0m\u001b[0;34m\u001b[0m\u001b[0;34m\u001b[0m\u001b[0m\n\u001b[0m\u001b[1;32m    359\u001b[0m     \u001b[0mweak_wrapped_fn\u001b[0m \u001b[0;34m=\u001b[0m \u001b[0mweakref\u001b[0m\u001b[0;34m.\u001b[0m\u001b[0mref\u001b[0m\u001b[0;34m(\u001b[0m\u001b[0mwrapped_fn\u001b[0m\u001b[0;34m)\u001b[0m\u001b[0;34m\u001b[0m\u001b[0;34m\u001b[0m\u001b[0m\n\u001b[1;32m    360\u001b[0m \u001b[0;34m\u001b[0m\u001b[0m\n",
      "\u001b[0;32m/opt/anaconda3/envs/molpredtf/lib/python3.7/site-packages/tensorflow_core/python/framework/func_graph.py\u001b[0m in \u001b[0;36mwrapper\u001b[0;34m(*args, **kwargs)\u001b[0m\n\u001b[1;32m    903\u001b[0m           \u001b[0;32mexcept\u001b[0m \u001b[0mException\u001b[0m \u001b[0;32mas\u001b[0m \u001b[0me\u001b[0m\u001b[0;34m:\u001b[0m  \u001b[0;31m# pylint:disable=broad-except\u001b[0m\u001b[0;34m\u001b[0m\u001b[0;34m\u001b[0m\u001b[0m\n\u001b[1;32m    904\u001b[0m             \u001b[0;32mif\u001b[0m \u001b[0mhasattr\u001b[0m\u001b[0;34m(\u001b[0m\u001b[0me\u001b[0m\u001b[0;34m,\u001b[0m \u001b[0;34m\"ag_error_metadata\"\u001b[0m\u001b[0;34m)\u001b[0m\u001b[0;34m:\u001b[0m\u001b[0;34m\u001b[0m\u001b[0;34m\u001b[0m\u001b[0m\n\u001b[0;32m--> 905\u001b[0;31m               \u001b[0;32mraise\u001b[0m \u001b[0me\u001b[0m\u001b[0;34m.\u001b[0m\u001b[0mag_error_metadata\u001b[0m\u001b[0;34m.\u001b[0m\u001b[0mto_exception\u001b[0m\u001b[0;34m(\u001b[0m\u001b[0me\u001b[0m\u001b[0;34m)\u001b[0m\u001b[0;34m\u001b[0m\u001b[0;34m\u001b[0m\u001b[0m\n\u001b[0m\u001b[1;32m    906\u001b[0m             \u001b[0;32melse\u001b[0m\u001b[0;34m:\u001b[0m\u001b[0;34m\u001b[0m\u001b[0;34m\u001b[0m\u001b[0m\n\u001b[1;32m    907\u001b[0m               \u001b[0;32mraise\u001b[0m\u001b[0;34m\u001b[0m\u001b[0;34m\u001b[0m\u001b[0m\n",
      "\u001b[0;31mTypeError\u001b[0m: in converted code:\n    relative to /opt/anaconda3/envs/molpredtf/lib/python3.7/site-packages:\n\n    deepchem/models/keras_model.py:510 apply_gradient_for_batch  *\n        grads = tape.gradient(batch_loss, vars)\n    tensorflow_core/python/eager/backprop.py:1014 gradient\n        unconnected_gradients=unconnected_gradients)\n    tensorflow_core/python/eager/imperative_grad.py:76 imperative_grad\n        compat.as_str(unconnected_gradients.value))\n    tensorflow_core/python/eager/backprop.py:138 _gradient_function\n        return grad_fn(mock_op, *out_grads)\n    tensorflow_core/python/ops/math_grad.py:455 _UnsortedSegmentMaxGrad\n        return _UnsortedSegmentMinOrMaxGrad(op, grad)\n    tensorflow_core/python/ops/math_grad.py:432 _UnsortedSegmentMinOrMaxGrad\n        _GatherDropNegatives(op.outputs[0], op.inputs[1])\n\n    TypeError: 'NoneType' object is not subscriptable\n"
     ]
    }
   ],
   "source": [
    "model = dc.models.GraphConvModel(n_tasks=1, mode='regression', dropout=0.2)\n",
    "model.fit(train_dataset, nb_epoch=100)"
   ]
  },
  {
   "cell_type": "code",
   "execution_count": 14,
   "id": "30c6c5e6",
   "metadata": {},
   "outputs": [],
   "source": [
    "from rdkit import Chem\n",
    "from rdkit.Chem.Draw import MolsToGridImage\n",
    "\n",
    "smiles_list = [\"CCCCC\",\"CCOCC\",\"CCNCC\",\"CCSCC\"]\n",
    "mol_list = [Chem.MolFromSmiles(x) for x in smiles_list]"
   ]
  },
  {
   "cell_type": "code",
   "execution_count": 16,
   "id": "3ae7049c",
   "metadata": {},
   "outputs": [
    {
     "data": {
      "image/png": "[encoded data removed]",
      "text/plain": [
       "<rdkit.Chem.rdchem.Mol at 0x7fe0d90bf3f0>"
      ]
     },
     "execution_count": 16,
     "metadata": {},
     "output_type": "execute_result"
    }
   ],
   "source": [
    "mol_list[0]"
   ]
  },
  {
   "cell_type": "code",
   "execution_count": 17,
   "id": "8a1cf311",
   "metadata": {},
   "outputs": [],
   "source": [
    "import deepchem as dc\n",
    "featurizer = dc.feat.RdkitGridFeaturizer(\n",
    "        voxel_width=2.0, sanitize=True, flatten=True,\n",
    "        feature_types=['hbond', 'salt_bridge', 'pi_stack',\n",
    "                       'cation_pi', 'ecfp', 'splif'])"
   ]
  },
  {
   "cell_type": "code",
   "execution_count": 18,
   "id": "ae3413c7",
   "metadata": {},
   "outputs": [
    {
     "name": "stderr",
     "output_type": "stream",
     "text": [
      "Failed to featurize datapoint 0. Appending empty array.\n",
      "Failed to featurize datapoint 1. Appending empty array.\n",
      "Failed to featurize datapoint 2. Appending empty array.\n",
      "Failed to featurize datapoint 3. Appending empty array.\n",
      "Failed to featurize datapoint 4. Appending empty array.\n",
      "Failed to featurize datapoint 5. Appending empty array.\n",
      "Failed to featurize datapoint 6. Appending empty array.\n",
      "Failed to featurize datapoint 7. Appending empty array.\n",
      "Failed to featurize datapoint 8. Appending empty array.\n",
      "Failed to featurize datapoint 9. Appending empty array.\n",
      "Failed to featurize datapoint 10. Appending empty array.\n",
      "Failed to featurize datapoint 11. Appending empty array.\n",
      "Failed to featurize datapoint 12. Appending empty array.\n",
      "Failed to featurize datapoint 13. Appending empty array.\n",
      "Failed to featurize datapoint 14. Appending empty array.\n",
      "Failed to featurize datapoint 15. Appending empty array.\n",
      "Failed to featurize datapoint 16. Appending empty array.\n",
      "Failed to featurize datapoint 17. Appending empty array.\n",
      "Failed to featurize datapoint 18. Appending empty array.\n",
      "Failed to featurize datapoint 19. Appending empty array.\n",
      "Failed to featurize datapoint 20. Appending empty array.\n",
      "Failed to featurize datapoint 21. Appending empty array.\n",
      "Failed to featurize datapoint 22. Appending empty array.\n",
      "Failed to featurize datapoint 23. Appending empty array.\n",
      "Failed to featurize datapoint 24. Appending empty array.\n",
      "Failed to featurize datapoint 25. Appending empty array.\n",
      "Failed to featurize datapoint 26. Appending empty array.\n",
      "Failed to featurize datapoint 27. Appending empty array.\n",
      "Failed to featurize datapoint 28. Appending empty array.\n",
      "Failed to featurize datapoint 29. Appending empty array.\n",
      "Failed to featurize datapoint 30. Appending empty array.\n",
      "Failed to featurize datapoint 31. Appending empty array.\n",
      "Failed to featurize datapoint 32. Appending empty array.\n",
      "Failed to featurize datapoint 33. Appending empty array.\n",
      "Failed to featurize datapoint 34. Appending empty array.\n",
      "Failed to featurize datapoint 35. Appending empty array.\n",
      "Failed to featurize datapoint 36. Appending empty array.\n",
      "Failed to featurize datapoint 37. Appending empty array.\n",
      "Failed to featurize datapoint 38. Appending empty array.\n",
      "Failed to featurize datapoint 39. Appending empty array.\n",
      "Failed to featurize datapoint 40. Appending empty array.\n",
      "Failed to featurize datapoint 41. Appending empty array.\n",
      "Failed to featurize datapoint 42. Appending empty array.\n",
      "Failed to featurize datapoint 43. Appending empty array.\n",
      "Failed to featurize datapoint 44. Appending empty array.\n",
      "Failed to featurize datapoint 45. Appending empty array.\n",
      "Failed to featurize datapoint 46. Appending empty array.\n",
      "Failed to featurize datapoint 47. Appending empty array.\n",
      "Failed to featurize datapoint 48. Appending empty array.\n",
      "Failed to featurize datapoint 49. Appending empty array.\n",
      "Failed to featurize datapoint 50. Appending empty array.\n",
      "Failed to featurize datapoint 51. Appending empty array.\n",
      "Failed to featurize datapoint 52. Appending empty array.\n",
      "Failed to featurize datapoint 53. Appending empty array.\n",
      "Failed to featurize datapoint 54. Appending empty array.\n",
      "Failed to featurize datapoint 55. Appending empty array.\n",
      "Failed to featurize datapoint 56. Appending empty array.\n",
      "Failed to featurize datapoint 57. Appending empty array.\n",
      "Failed to featurize datapoint 58. Appending empty array.\n",
      "Failed to featurize datapoint 59. Appending empty array.\n",
      "Failed to featurize datapoint 60. Appending empty array.\n",
      "Failed to featurize datapoint 61. Appending empty array.\n",
      "Failed to featurize datapoint 62. Appending empty array.\n",
      "Failed to featurize datapoint 63. Appending empty array.\n",
      "Failed to featurize datapoint 64. Appending empty array.\n",
      "Failed to featurize datapoint 65. Appending empty array.\n",
      "Failed to featurize datapoint 66. Appending empty array.\n",
      "Failed to featurize datapoint 67. Appending empty array.\n",
      "Failed to featurize datapoint 68. Appending empty array.\n",
      "Failed to featurize datapoint 69. Appending empty array.\n",
      "Failed to featurize datapoint 70. Appending empty array.\n",
      "Failed to featurize datapoint 71. Appending empty array.\n",
      "Failed to featurize datapoint 72. Appending empty array.\n",
      "Failed to featurize datapoint 73. Appending empty array.\n",
      "Failed to featurize datapoint 74. Appending empty array.\n",
      "Failed to featurize datapoint 75. Appending empty array.\n",
      "Failed to featurize datapoint 76. Appending empty array.\n",
      "Failed to featurize datapoint 77. Appending empty array.\n",
      "Failed to featurize datapoint 78. Appending empty array.\n",
      "Failed to featurize datapoint 79. Appending empty array.\n",
      "Failed to featurize datapoint 80. Appending empty array.\n",
      "Failed to featurize datapoint 81. Appending empty array.\n",
      "Failed to featurize datapoint 82. Appending empty array.\n",
      "Failed to featurize datapoint 83. Appending empty array.\n",
      "Failed to featurize datapoint 84. Appending empty array.\n",
      "Failed to featurize datapoint 85. Appending empty array.\n",
      "Failed to featurize datapoint 86. Appending empty array.\n",
      "Failed to featurize datapoint 87. Appending empty array.\n",
      "Failed to featurize datapoint 88. Appending empty array.\n",
      "Failed to featurize datapoint 89. Appending empty array.\n",
      "Failed to featurize datapoint 90. Appending empty array.\n",
      "Failed to featurize datapoint 91. Appending empty array.\n",
      "Failed to featurize datapoint 92. Appending empty array.\n",
      "Failed to featurize datapoint 93. Appending empty array.\n",
      "Failed to featurize datapoint 94. Appending empty array.\n",
      "Failed to featurize datapoint 95. Appending empty array.\n",
      "Failed to featurize datapoint 96. Appending empty array.\n",
      "Failed to featurize datapoint 97. Appending empty array.\n",
      "Failed to featurize datapoint 98. Appending empty array.\n",
      "Failed to featurize datapoint 99. Appending empty array.\n",
      "Failed to featurize datapoint 100. Appending empty array.\n",
      "Failed to featurize datapoint 101. Appending empty array.\n",
      "Failed to featurize datapoint 102. Appending empty array.\n",
      "Failed to featurize datapoint 103. Appending empty array.\n",
      "Failed to featurize datapoint 104. Appending empty array.\n",
      "Failed to featurize datapoint 105. Appending empty array.\n",
      "Failed to featurize datapoint 106. Appending empty array.\n",
      "Failed to featurize datapoint 107. Appending empty array.\n",
      "Failed to featurize datapoint 108. Appending empty array.\n",
      "Failed to featurize datapoint 109. Appending empty array.\n",
      "Failed to featurize datapoint 110. Appending empty array.\n",
      "Failed to featurize datapoint 111. Appending empty array.\n",
      "Failed to featurize datapoint 112. Appending empty array.\n",
      "Failed to featurize datapoint 113. Appending empty array.\n",
      "Failed to featurize datapoint 114. Appending empty array.\n",
      "Failed to featurize datapoint 115. Appending empty array.\n",
      "Failed to featurize datapoint 116. Appending empty array.\n",
      "Failed to featurize datapoint 117. Appending empty array.\n",
      "Failed to featurize datapoint 118. Appending empty array.\n",
      "Failed to featurize datapoint 119. Appending empty array.\n",
      "Failed to featurize datapoint 120. Appending empty array.\n",
      "Failed to featurize datapoint 121. Appending empty array.\n",
      "Failed to featurize datapoint 122. Appending empty array.\n",
      "Failed to featurize datapoint 123. Appending empty array.\n",
      "Failed to featurize datapoint 124. Appending empty array.\n",
      "Failed to featurize datapoint 125. Appending empty array.\n",
      "Failed to featurize datapoint 126. Appending empty array.\n",
      "Failed to featurize datapoint 127. Appending empty array.\n",
      "Failed to featurize datapoint 128. Appending empty array.\n",
      "Failed to featurize datapoint 129. Appending empty array.\n",
      "Failed to featurize datapoint 130. Appending empty array.\n",
      "Failed to featurize datapoint 131. Appending empty array.\n",
      "Failed to featurize datapoint 132. Appending empty array.\n",
      "Failed to featurize datapoint 133. Appending empty array.\n",
      "Failed to featurize datapoint 134. Appending empty array.\n",
      "Failed to featurize datapoint 135. Appending empty array.\n",
      "Failed to featurize datapoint 136. Appending empty array.\n",
      "Failed to featurize datapoint 137. Appending empty array.\n",
      "Failed to featurize datapoint 138. Appending empty array.\n",
      "Failed to featurize datapoint 139. Appending empty array.\n",
      "Failed to featurize datapoint 140. Appending empty array.\n",
      "Failed to featurize datapoint 141. Appending empty array.\n",
      "Failed to featurize datapoint 142. Appending empty array.\n",
      "Failed to featurize datapoint 143. Appending empty array.\n"
     ]
    },
    {
     "name": "stderr",
     "output_type": "stream",
     "text": [
      "Failed to featurize datapoint 144. Appending empty array.\n",
      "Failed to featurize datapoint 145. Appending empty array.\n",
      "Failed to featurize datapoint 146. Appending empty array.\n",
      "Failed to featurize datapoint 147. Appending empty array.\n",
      "Failed to featurize datapoint 148. Appending empty array.\n",
      "Failed to featurize datapoint 149. Appending empty array.\n",
      "Failed to featurize datapoint 150. Appending empty array.\n",
      "Failed to featurize datapoint 151. Appending empty array.\n",
      "Failed to featurize datapoint 152. Appending empty array.\n",
      "Failed to featurize datapoint 153. Appending empty array.\n",
      "Failed to featurize datapoint 154. Appending empty array.\n",
      "Failed to featurize datapoint 155. Appending empty array.\n",
      "Failed to featurize datapoint 156. Appending empty array.\n",
      "Failed to featurize datapoint 157. Appending empty array.\n",
      "Failed to featurize datapoint 158. Appending empty array.\n",
      "Failed to featurize datapoint 159. Appending empty array.\n",
      "Failed to featurize datapoint 160. Appending empty array.\n",
      "Failed to featurize datapoint 161. Appending empty array.\n",
      "Failed to featurize datapoint 162. Appending empty array.\n",
      "Failed to featurize datapoint 163. Appending empty array.\n",
      "Failed to featurize datapoint 164. Appending empty array.\n",
      "Failed to featurize datapoint 165. Appending empty array.\n",
      "Failed to featurize datapoint 166. Appending empty array.\n",
      "Failed to featurize datapoint 167. Appending empty array.\n",
      "Failed to featurize datapoint 168. Appending empty array.\n",
      "Failed to featurize datapoint 169. Appending empty array.\n",
      "Failed to featurize datapoint 170. Appending empty array.\n",
      "Failed to featurize datapoint 171. Appending empty array.\n",
      "Failed to featurize datapoint 172. Appending empty array.\n",
      "Failed to featurize datapoint 173. Appending empty array.\n",
      "Failed to featurize datapoint 174. Appending empty array.\n",
      "Failed to featurize datapoint 175. Appending empty array.\n",
      "Failed to featurize datapoint 176. Appending empty array.\n",
      "Failed to featurize datapoint 177. Appending empty array.\n",
      "Failed to featurize datapoint 178. Appending empty array.\n",
      "Failed to featurize datapoint 179. Appending empty array.\n",
      "Failed to featurize datapoint 180. Appending empty array.\n",
      "Failed to featurize datapoint 181. Appending empty array.\n",
      "Failed to featurize datapoint 182. Appending empty array.\n",
      "Failed to featurize datapoint 183. Appending empty array.\n",
      "Failed to featurize datapoint 184. Appending empty array.\n",
      "Failed to featurize datapoint 185. Appending empty array.\n",
      "Failed to featurize datapoint 186. Appending empty array.\n",
      "Failed to featurize datapoint 187. Appending empty array.\n",
      "Failed to featurize datapoint 188. Appending empty array.\n",
      "Failed to featurize datapoint 189. Appending empty array.\n",
      "Failed to featurize datapoint 190. Appending empty array.\n",
      "Failed to featurize datapoint 191. Appending empty array.\n",
      "Failed to featurize datapoint 192. Appending empty array.\n"
     ]
    }
   ],
   "source": [
    "tasks, datasets, transformers = dc.molnet.load_pdbbind(\n",
    "        featurizer=featurizer, splitter=\"random\", subset=\"core\")\n",
    "train_dataset, valid_dataset, test_dataset = datasets"
   ]
  },
  {
   "cell_type": "code",
   "execution_count": 19,
   "id": "850850b1",
   "metadata": {},
   "outputs": [],
   "source": [
    "from sklearn.ensemble import RandomForestRegressor\n",
    "sklearn_model = RandomForestRegressor(n_estimators=100)\n",
    "model = dc.models.SklearnModel(sklearn_model)\n",
    "model.fit(train_dataset)"
   ]
  },
  {
   "cell_type": "code",
   "execution_count": 20,
   "id": "b9474f22",
   "metadata": {},
   "outputs": [
    {
     "data": {
      "text/plain": [
       "2.4263673400878907"
      ]
     },
     "execution_count": 20,
     "metadata": {},
     "output_type": "execute_result"
    }
   ],
   "source": [
    "n_features = train_dataset.X.shape[1]\n",
    "model = dc.models.MultitaskRegressor(\n",
    "        n_tasks=len(tasks),\n",
    "        n_features=n_features,\n",
    "        layer_sizes=[2000, 1000],\n",
    "        dropouts=0.5,\n",
    "        learning_rate=0.0003)\n",
    "model.fit(train_dataset, nb_epoch=50)"
   ]
  },
  {
   "cell_type": "code",
   "execution_count": null,
   "id": "b26708b7",
   "metadata": {},
   "outputs": [],
   "source": []
  }
 ],
 "metadata": {
  "kernelspec": {
   "display_name": "Python 3 (ipykernel)",
   "language": "python",
   "name": "python3"
  },
  "language_info": {
   "codemirror_mode": {
    "name": "ipython",
    "version": 3
   },
   "file_extension": ".py",
   "mimetype": "text/x-python",
   "name": "python",
   "nbconvert_exporter": "python",
   "pygments_lexer": "ipython3",
   "version": "3.7.13"
  }
 },
 "nbformat": 4,
 "nbformat_minor": 5
}
