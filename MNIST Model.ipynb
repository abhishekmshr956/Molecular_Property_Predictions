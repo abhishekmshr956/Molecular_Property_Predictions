{
 "cells": [
  {
   "cell_type": "code",
   "execution_count": 1,
   "id": "651d4c2e",
   "metadata": {},
   "outputs": [],
   "source": [
    "import deepchem as dc\n",
    "import tensorflow as tf\n",
    "import tensorflow.keras.layers as layers"
   ]
  },
  {
   "cell_type": "code",
   "execution_count": 2,
   "id": "643815ca",
   "metadata": {},
   "outputs": [
    {
     "name": "stderr",
     "output_type": "stream",
     "text": [
      "2022-06-02 17:31:17.418280: I tensorflow/core/platform/cpu_feature_guard.cc:145] This TensorFlow binary is optimized with Intel(R) MKL-DNN to use the following CPU instructions in performance critical operations:  SSE4.1 SSE4.2 AVX AVX2 FMA\n",
      "To enable them in non-MKL-DNN operations, rebuild TensorFlow with the appropriate compiler flags.\n",
      "2022-06-02 17:31:17.418592: I tensorflow/core/common_runtime/process_util.cc:115] Creating new thread pool with default inter op setting: 8. Tune using inter_op_parallelism_threads for best performance.\n"
     ]
    }
   ],
   "source": [
    "(x_train, y_train), (x_test, y_test) = tf.keras.datasets.mnist.load_data()\n",
    "y_train = tf.one_hot(y_train, 10).numpy()\n",
    "y_test = tf.one_hot(y_test, 10).numpy()"
   ]
  },
  {
   "cell_type": "code",
   "execution_count": 3,
   "id": "e7bb5840",
   "metadata": {},
   "outputs": [],
   "source": [
    "train_dataset = dc.data.NumpyDataset(x_train, y_train)\n",
    "test_dataset = dc.data.NumpyDataset(x_test, y_test)"
   ]
  },
  {
   "cell_type": "code",
   "execution_count": 4,
   "id": "ddc3245f",
   "metadata": {},
   "outputs": [],
   "source": [
    "features = tf.keras.Input(shape=(28,28,1))"
   ]
  },
  {
   "cell_type": "code",
   "execution_count": 5,
   "id": "f363e382",
   "metadata": {},
   "outputs": [],
   "source": [
    "conv2d_1 = layers.Conv2D(filters=32, kernel_size=5, activation=tf.nn.relu)(features)\n",
    "conv2d_2 = layers.Conv2D(filters=64, kernel_size=5, activation=tf.nn.relu)(conv2d_1)"
   ]
  },
  {
   "cell_type": "code",
   "execution_count": 6,
   "id": "c5b894ec",
   "metadata": {},
   "outputs": [],
   "source": [
    "flatten = layers.Flatten()(conv2d_2)\n",
    "dense1 = layers.Dense(units=1024, activation=tf.nn.relu)(flatten)\n",
    "dense2 = layers.Dense(units=10, activation=None)(dense1)"
   ]
  },
  {
   "cell_type": "code",
   "execution_count": 7,
   "id": "623cd8eb",
   "metadata": {},
   "outputs": [],
   "source": [
    "output = layers.Activation(tf.math.softmax)(dense2)"
   ]
  },
  {
   "cell_type": "code",
   "execution_count": 8,
   "id": "948aa549",
   "metadata": {},
   "outputs": [],
   "source": [
    "keras_model = tf.keras.Model(inputs=features, outputs=[output, dense2])"
   ]
  },
  {
   "cell_type": "code",
   "execution_count": 9,
   "id": "31106536",
   "metadata": {},
   "outputs": [],
   "source": [
    "model = dc.models.KerasModel(keras_model, loss=dc.models.losses.SoftmaxCrossEntropy(),\n",
    "                            output_types=['prediction', 'loss'],\n",
    "                            model_dir='mnist')"
   ]
  },
  {
   "cell_type": "code",
   "execution_count": 10,
   "id": "b80779b4",
   "metadata": {},
   "outputs": [
    {
     "data": {
      "text/plain": [
       "0.10718879699707032"
      ]
     },
     "execution_count": 10,
     "metadata": {},
     "output_type": "execute_result"
    }
   ],
   "source": [
    "model.fit(train_dataset, nb_epoch=1)"
   ]
  },
  {
   "cell_type": "code",
   "execution_count": 11,
   "id": "aac44933",
   "metadata": {},
   "outputs": [],
   "source": [
    "metric = dc.metrics.Metric(dc.metrics.accuracy_score)"
   ]
  },
  {
   "cell_type": "code",
   "execution_count": 12,
   "id": "8370d388",
   "metadata": {},
   "outputs": [],
   "source": [
    "train_scores = model.evaluate(train_dataset, [metric])\n",
    "test_scores = model.evaluate(test_dataset, [metric])"
   ]
  },
  {
   "cell_type": "code",
   "execution_count": 13,
   "id": "b1ad9332",
   "metadata": {},
   "outputs": [
    {
     "data": {
      "text/plain": [
       "{'accuracy_score': 0.99367}"
      ]
     },
     "execution_count": 13,
     "metadata": {},
     "output_type": "execute_result"
    }
   ],
   "source": [
    "test_scores"
   ]
  },
  {
   "cell_type": "code",
   "execution_count": 14,
   "id": "daaea7d0",
   "metadata": {},
   "outputs": [
    {
     "data": {
      "text/plain": [
       "{'accuracy_score': 0.9952483333333333}"
      ]
     },
     "execution_count": 14,
     "metadata": {},
     "output_type": "execute_result"
    }
   ],
   "source": [
    "train_scores"
   ]
  },
  {
   "cell_type": "code",
   "execution_count": null,
   "id": "f3aabb28",
   "metadata": {},
   "outputs": [],
   "source": []
  }
 ],
 "metadata": {
  "kernelspec": {
   "display_name": "Python 3 (ipykernel)",
   "language": "python",
   "name": "python3"
  },
  "language_info": {
   "codemirror_mode": {
    "name": "ipython",
    "version": 3
   },
   "file_extension": ".py",
   "mimetype": "text/x-python",
   "name": "python",
   "nbconvert_exporter": "python",
   "pygments_lexer": "ipython3",
   "version": "3.7.13"
  }
 },
 "nbformat": 4,
 "nbformat_minor": 5
}
